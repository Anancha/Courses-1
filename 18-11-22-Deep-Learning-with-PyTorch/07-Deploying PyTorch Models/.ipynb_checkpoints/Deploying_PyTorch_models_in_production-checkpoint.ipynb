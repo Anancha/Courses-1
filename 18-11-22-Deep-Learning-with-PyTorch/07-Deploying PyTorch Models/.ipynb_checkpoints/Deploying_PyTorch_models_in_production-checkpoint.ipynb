{
 "cells": [
  {
   "cell_type": "code",
   "execution_count": 1,
   "metadata": {},
   "outputs": [],
   "source": [
    "import torch\n",
    "import torchvision"
   ]
  },
  {
   "cell_type": "markdown",
   "metadata": {},
   "source": [
    "# Requirements"
   ]
  },
  {
   "cell_type": "code",
   "execution_count": 2,
   "metadata": {},
   "outputs": [
    {
     "data": {
      "text/plain": [
       "'1.0.0.dev20181116'"
      ]
     },
     "execution_count": 2,
     "metadata": {},
     "output_type": "execute_result"
    }
   ],
   "source": [
    "torch.__version__"
   ]
  },
  {
   "cell_type": "markdown",
   "metadata": {},
   "source": [
    "PyTorch deployment requires using an unstable version of PyTorch (1.0.0+).\n",
    "\n",
    "In order to install this version, use \"Preview\" option when choosing PyTorch version.\n",
    "\n",
    "https://pytorch.org/"
   ]
  },
  {
   "cell_type": "code",
   "execution_count": 3,
   "metadata": {},
   "outputs": [],
   "source": [
    "# Let's create an example model using ResNet-18\n",
    "model = torchvision.models.resnet18()"
   ]
  },
  {
   "cell_type": "code",
   "execution_count": 4,
   "metadata": {},
   "outputs": [
    {
     "data": {
      "text/plain": [
       "ResNet(\n",
       "  (conv1): Conv2d(3, 64, kernel_size=(7, 7), stride=(2, 2), padding=(3, 3), bias=False)\n",
       "  (bn1): BatchNorm2d(64, eps=1e-05, momentum=0.1, affine=True, track_running_stats=True)\n",
       "  (relu): ReLU(inplace)\n",
       "  (maxpool): MaxPool2d(kernel_size=3, stride=2, padding=1, dilation=1, ceil_mode=False)\n",
       "  (layer1): Sequential(\n",
       "    (0): BasicBlock(\n",
       "      (conv1): Conv2d(64, 64, kernel_size=(3, 3), stride=(1, 1), padding=(1, 1), bias=False)\n",
       "      (bn1): BatchNorm2d(64, eps=1e-05, momentum=0.1, affine=True, track_running_stats=True)\n",
       "      (relu): ReLU(inplace)\n",
       "      (conv2): Conv2d(64, 64, kernel_size=(3, 3), stride=(1, 1), padding=(1, 1), bias=False)\n",
       "      (bn2): BatchNorm2d(64, eps=1e-05, momentum=0.1, affine=True, track_running_stats=True)\n",
       "    )\n",
       "    (1): BasicBlock(\n",
       "      (conv1): Conv2d(64, 64, kernel_size=(3, 3), stride=(1, 1), padding=(1, 1), bias=False)\n",
       "      (bn1): BatchNorm2d(64, eps=1e-05, momentum=0.1, affine=True, track_running_stats=True)\n",
       "      (relu): ReLU(inplace)\n",
       "      (conv2): Conv2d(64, 64, kernel_size=(3, 3), stride=(1, 1), padding=(1, 1), bias=False)\n",
       "      (bn2): BatchNorm2d(64, eps=1e-05, momentum=0.1, affine=True, track_running_stats=True)\n",
       "    )\n",
       "  )\n",
       "  (layer2): Sequential(\n",
       "    (0): BasicBlock(\n",
       "      (conv1): Conv2d(64, 128, kernel_size=(3, 3), stride=(2, 2), padding=(1, 1), bias=False)\n",
       "      (bn1): BatchNorm2d(128, eps=1e-05, momentum=0.1, affine=True, track_running_stats=True)\n",
       "      (relu): ReLU(inplace)\n",
       "      (conv2): Conv2d(128, 128, kernel_size=(3, 3), stride=(1, 1), padding=(1, 1), bias=False)\n",
       "      (bn2): BatchNorm2d(128, eps=1e-05, momentum=0.1, affine=True, track_running_stats=True)\n",
       "      (downsample): Sequential(\n",
       "        (0): Conv2d(64, 128, kernel_size=(1, 1), stride=(2, 2), bias=False)\n",
       "        (1): BatchNorm2d(128, eps=1e-05, momentum=0.1, affine=True, track_running_stats=True)\n",
       "      )\n",
       "    )\n",
       "    (1): BasicBlock(\n",
       "      (conv1): Conv2d(128, 128, kernel_size=(3, 3), stride=(1, 1), padding=(1, 1), bias=False)\n",
       "      (bn1): BatchNorm2d(128, eps=1e-05, momentum=0.1, affine=True, track_running_stats=True)\n",
       "      (relu): ReLU(inplace)\n",
       "      (conv2): Conv2d(128, 128, kernel_size=(3, 3), stride=(1, 1), padding=(1, 1), bias=False)\n",
       "      (bn2): BatchNorm2d(128, eps=1e-05, momentum=0.1, affine=True, track_running_stats=True)\n",
       "    )\n",
       "  )\n",
       "  (layer3): Sequential(\n",
       "    (0): BasicBlock(\n",
       "      (conv1): Conv2d(128, 256, kernel_size=(3, 3), stride=(2, 2), padding=(1, 1), bias=False)\n",
       "      (bn1): BatchNorm2d(256, eps=1e-05, momentum=0.1, affine=True, track_running_stats=True)\n",
       "      (relu): ReLU(inplace)\n",
       "      (conv2): Conv2d(256, 256, kernel_size=(3, 3), stride=(1, 1), padding=(1, 1), bias=False)\n",
       "      (bn2): BatchNorm2d(256, eps=1e-05, momentum=0.1, affine=True, track_running_stats=True)\n",
       "      (downsample): Sequential(\n",
       "        (0): Conv2d(128, 256, kernel_size=(1, 1), stride=(2, 2), bias=False)\n",
       "        (1): BatchNorm2d(256, eps=1e-05, momentum=0.1, affine=True, track_running_stats=True)\n",
       "      )\n",
       "    )\n",
       "    (1): BasicBlock(\n",
       "      (conv1): Conv2d(256, 256, kernel_size=(3, 3), stride=(1, 1), padding=(1, 1), bias=False)\n",
       "      (bn1): BatchNorm2d(256, eps=1e-05, momentum=0.1, affine=True, track_running_stats=True)\n",
       "      (relu): ReLU(inplace)\n",
       "      (conv2): Conv2d(256, 256, kernel_size=(3, 3), stride=(1, 1), padding=(1, 1), bias=False)\n",
       "      (bn2): BatchNorm2d(256, eps=1e-05, momentum=0.1, affine=True, track_running_stats=True)\n",
       "    )\n",
       "  )\n",
       "  (layer4): Sequential(\n",
       "    (0): BasicBlock(\n",
       "      (conv1): Conv2d(256, 512, kernel_size=(3, 3), stride=(2, 2), padding=(1, 1), bias=False)\n",
       "      (bn1): BatchNorm2d(512, eps=1e-05, momentum=0.1, affine=True, track_running_stats=True)\n",
       "      (relu): ReLU(inplace)\n",
       "      (conv2): Conv2d(512, 512, kernel_size=(3, 3), stride=(1, 1), padding=(1, 1), bias=False)\n",
       "      (bn2): BatchNorm2d(512, eps=1e-05, momentum=0.1, affine=True, track_running_stats=True)\n",
       "      (downsample): Sequential(\n",
       "        (0): Conv2d(256, 512, kernel_size=(1, 1), stride=(2, 2), bias=False)\n",
       "        (1): BatchNorm2d(512, eps=1e-05, momentum=0.1, affine=True, track_running_stats=True)\n",
       "      )\n",
       "    )\n",
       "    (1): BasicBlock(\n",
       "      (conv1): Conv2d(512, 512, kernel_size=(3, 3), stride=(1, 1), padding=(1, 1), bias=False)\n",
       "      (bn1): BatchNorm2d(512, eps=1e-05, momentum=0.1, affine=True, track_running_stats=True)\n",
       "      (relu): ReLU(inplace)\n",
       "      (conv2): Conv2d(512, 512, kernel_size=(3, 3), stride=(1, 1), padding=(1, 1), bias=False)\n",
       "      (bn2): BatchNorm2d(512, eps=1e-05, momentum=0.1, affine=True, track_running_stats=True)\n",
       "    )\n",
       "  )\n",
       "  (avgpool): AvgPool2d(kernel_size=7, stride=1, padding=0)\n",
       "  (fc): Linear(in_features=512, out_features=1000, bias=True)\n",
       ")"
      ]
     },
     "execution_count": 4,
     "metadata": {},
     "output_type": "execute_result"
    }
   ],
   "source": [
    "model"
   ]
  },
  {
   "cell_type": "code",
   "execution_count": 5,
   "metadata": {},
   "outputs": [],
   "source": [
    "# Creating a sample of the input\n",
    "# It will be used to pass it to the network to build the dimensions\n",
    "sample = torch.rand(size=(1, 3, 224, 224))"
   ]
  },
  {
   "cell_type": "code",
   "execution_count": 6,
   "metadata": {},
   "outputs": [],
   "source": [
    "# Creating so called \"traced Torch script\"\n",
    "traced_script_module = torch.jit.trace(model, sample)"
   ]
  },
  {
   "cell_type": "code",
   "execution_count": 7,
   "metadata": {},
   "outputs": [
    {
     "data": {
      "text/plain": [
       "TracedModule[ResNet](\n",
       "  (conv1): TracedModule[Conv2d]()\n",
       "  (bn1): TracedModule[BatchNorm2d]()\n",
       "  (relu): TracedModule[ReLU]()\n",
       "  (maxpool): TracedModule[MaxPool2d]()\n",
       "  (layer1): TracedModule[Sequential](\n",
       "    (0): TracedModule[BasicBlock](\n",
       "      (conv1): TracedModule[Conv2d]()\n",
       "      (bn1): TracedModule[BatchNorm2d]()\n",
       "      (relu): TracedModule[ReLU]()\n",
       "      (conv2): TracedModule[Conv2d]()\n",
       "      (bn2): TracedModule[BatchNorm2d]()\n",
       "    )\n",
       "    (1): TracedModule[BasicBlock](\n",
       "      (conv1): TracedModule[Conv2d]()\n",
       "      (bn1): TracedModule[BatchNorm2d]()\n",
       "      (relu): TracedModule[ReLU]()\n",
       "      (conv2): TracedModule[Conv2d]()\n",
       "      (bn2): TracedModule[BatchNorm2d]()\n",
       "    )\n",
       "  )\n",
       "  (layer2): TracedModule[Sequential](\n",
       "    (0): TracedModule[BasicBlock](\n",
       "      (conv1): TracedModule[Conv2d]()\n",
       "      (bn1): TracedModule[BatchNorm2d]()\n",
       "      (relu): TracedModule[ReLU]()\n",
       "      (conv2): TracedModule[Conv2d]()\n",
       "      (bn2): TracedModule[BatchNorm2d]()\n",
       "      (downsample): TracedModule[Sequential](\n",
       "        (0): TracedModule[Conv2d]()\n",
       "        (1): TracedModule[BatchNorm2d]()\n",
       "      )\n",
       "    )\n",
       "    (1): TracedModule[BasicBlock](\n",
       "      (conv1): TracedModule[Conv2d]()\n",
       "      (bn1): TracedModule[BatchNorm2d]()\n",
       "      (relu): TracedModule[ReLU]()\n",
       "      (conv2): TracedModule[Conv2d]()\n",
       "      (bn2): TracedModule[BatchNorm2d]()\n",
       "    )\n",
       "  )\n",
       "  (layer3): TracedModule[Sequential](\n",
       "    (0): TracedModule[BasicBlock](\n",
       "      (conv1): TracedModule[Conv2d]()\n",
       "      (bn1): TracedModule[BatchNorm2d]()\n",
       "      (relu): TracedModule[ReLU]()\n",
       "      (conv2): TracedModule[Conv2d]()\n",
       "      (bn2): TracedModule[BatchNorm2d]()\n",
       "      (downsample): TracedModule[Sequential](\n",
       "        (0): TracedModule[Conv2d]()\n",
       "        (1): TracedModule[BatchNorm2d]()\n",
       "      )\n",
       "    )\n",
       "    (1): TracedModule[BasicBlock](\n",
       "      (conv1): TracedModule[Conv2d]()\n",
       "      (bn1): TracedModule[BatchNorm2d]()\n",
       "      (relu): TracedModule[ReLU]()\n",
       "      (conv2): TracedModule[Conv2d]()\n",
       "      (bn2): TracedModule[BatchNorm2d]()\n",
       "    )\n",
       "  )\n",
       "  (layer4): TracedModule[Sequential](\n",
       "    (0): TracedModule[BasicBlock](\n",
       "      (conv1): TracedModule[Conv2d]()\n",
       "      (bn1): TracedModule[BatchNorm2d]()\n",
       "      (relu): TracedModule[ReLU]()\n",
       "      (conv2): TracedModule[Conv2d]()\n",
       "      (bn2): TracedModule[BatchNorm2d]()\n",
       "      (downsample): TracedModule[Sequential](\n",
       "        (0): TracedModule[Conv2d]()\n",
       "        (1): TracedModule[BatchNorm2d]()\n",
       "      )\n",
       "    )\n",
       "    (1): TracedModule[BasicBlock](\n",
       "      (conv1): TracedModule[Conv2d]()\n",
       "      (bn1): TracedModule[BatchNorm2d]()\n",
       "      (relu): TracedModule[ReLU]()\n",
       "      (conv2): TracedModule[Conv2d]()\n",
       "      (bn2): TracedModule[BatchNorm2d]()\n",
       "    )\n",
       "  )\n",
       "  (avgpool): TracedModule[AvgPool2d]()\n",
       "  (fc): TracedModule[Linear]()\n",
       ")"
      ]
     },
     "execution_count": 7,
     "metadata": {},
     "output_type": "execute_result"
    }
   ],
   "source": [
    "traced_script_module"
   ]
  },
  {
   "cell_type": "code",
   "execution_count": 8,
   "metadata": {},
   "outputs": [],
   "source": [
    "# The TracedModule is capable of making predictions\n",
    "sample_prediction = traced_script_module(torch.ones(size=(1, 3, 224, 224)))"
   ]
  },
  {
   "cell_type": "code",
   "execution_count": 9,
   "metadata": {},
   "outputs": [
    {
     "data": {
      "text/plain": [
       "torch.Size([1, 1000])"
      ]
     },
     "execution_count": 9,
     "metadata": {},
     "output_type": "execute_result"
    }
   ],
   "source": [
    "sample_prediction.shape"
   ]
  },
  {
   "cell_type": "code",
   "execution_count": 11,
   "metadata": {},
   "outputs": [],
   "source": [
    "# Serializing the the script module\n",
    "traced_script_module.save('./models_deployment/model.pt')"
   ]
  },
  {
   "cell_type": "markdown",
   "metadata": {},
   "source": [
    "## The module is ready to be loaded into C++ !\n",
    "\n",
    "That requires:\n",
    "- LibTorch\n",
    "- CMake"
   ]
  }
 ],
 "metadata": {
  "kernelspec": {
   "display_name": "Python 3",
   "language": "python",
   "name": "python3"
  },
  "language_info": {
   "codemirror_mode": {
    "name": "ipython",
    "version": 3
   },
   "file_extension": ".py",
   "mimetype": "text/x-python",
   "name": "python",
   "nbconvert_exporter": "python",
   "pygments_lexer": "ipython3",
   "version": "3.6.6"
  }
 },
 "nbformat": 4,
 "nbformat_minor": 2
}
